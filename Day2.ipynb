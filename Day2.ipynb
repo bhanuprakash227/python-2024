{
  "nbformat": 4,
  "nbformat_minor": 0,
  "metadata": {
    "colab": {
      "provenance": [],
      "authorship_tag": "ABX9TyNDjOSZaJWzaPN08e9F+xKE",
      "include_colab_link": true
    },
    "kernelspec": {
      "name": "python3",
      "display_name": "Python 3"
    },
    "language_info": {
      "name": "python"
    }
  },
  "cells": [
    {
      "cell_type": "markdown",
      "metadata": {
        "id": "view-in-github",
        "colab_type": "text"
      },
      "source": [
        "<a href=\"https://colab.research.google.com/github/bhanuprakash227/python-2024/blob/main/Day2.ipynb\" target=\"_parent\"><img src=\"https://colab.research.google.com/assets/colab-badge.svg\" alt=\"Open In Colab\"/></a>"
      ]
    },
    {
      "cell_type": "code",
      "execution_count": null,
      "metadata": {
        "colab": {
          "base_uri": "https://localhost:8080/"
        },
        "id": "q55jol0EL8IK",
        "outputId": "c96d1284-bcf8-44de-9aa9-dc2c367f299f"
      },
      "outputs": [
        {
          "output_type": "stream",
          "name": "stdout",
          "text": [
            "400\n",
            "1 1 5\n"
          ]
        }
      ],
      "source": [
        "#to print n number of days into number of years months and days\n",
        "n=int(input())\n",
        "if 1<=n and n<=10000000 :\n",
        "    years=n//365\n",
        "    x=n%365\n",
        "    months=x//30\n",
        "    days=x%30\n",
        "    print(years,months,days)\n",
        "else:\n",
        "    print(\"give positive number\")"
      ]
    },
    {
      "cell_type": "code",
      "source": [
        "# money after adding delivery charges (free delivery for above 500 rupees)\n",
        "amount=int(input())\n",
        "if amount<500:\n",
        "    amount=amount+40\n",
        "print(amount)"
      ],
      "metadata": {
        "colab": {
          "base_uri": "https://localhost:8080/"
        },
        "id": "aQ7fJHJAMYiD",
        "outputId": "5737e343-d534-4dd6-bf34-d0df00a5fcb0"
      },
      "execution_count": null,
      "outputs": [
        {
          "output_type": "stream",
          "name": "stdout",
          "text": [
            "555\n",
            "555\n"
          ]
        }
      ]
    },
    {
      "cell_type": "code",
      "source": [
        "#to print given number is even or odd\n",
        "number=int(input(\"enter a number: \"))\n",
        "if number%2==0:\n",
        "    print(number,\"is even number\")\n",
        "else:\n",
        "    print(number,\"is odd number\")\n",
        "print(\"end of the program\")"
      ],
      "metadata": {
        "colab": {
          "base_uri": "https://localhost:8080/"
        },
        "id": "4A6vxwwfO65i",
        "outputId": "1fde2ea5-3ca5-4a4e-c701-ef5060d05f0f"
      },
      "execution_count": null,
      "outputs": [
        {
          "output_type": "stream",
          "name": "stdout",
          "text": [
            "enter a number: 14\n",
            "14 is even number\n",
            "end of the program\n"
          ]
        }
      ]
    },
    {
      "cell_type": "code",
      "source": [
        "#to find given number is +ve or -ve\n",
        "nmbr=int(input(\"enter a number :  \"))\n",
        "if nmbr>0:\n",
        "    print(nmbr,\"is positive number\")\n",
        "elif nmbr<0:\n",
        "    print(nmbr,\"is negitive number\")\n",
        "else:\n",
        "    print(\"Zero\")\n",
        "print(\"--------END---------\")"
      ],
      "metadata": {
        "colab": {
          "base_uri": "https://localhost:8080/"
        },
        "id": "fwAdsrFNPYOE",
        "outputId": "ec2228a2-f5ee-4c32-b2a9-5432376defde"
      },
      "execution_count": null,
      "outputs": [
        {
          "output_type": "stream",
          "name": "stdout",
          "text": [
            "enter a number :  1919\n",
            "1919 is positive number\n",
            "--------END---------\n"
          ]
        }
      ]
    },
    {
      "cell_type": "code",
      "source": [
        "#to print directions by itsbstaring value\n",
        "c=input(\"enter a value : \")\n",
        "if c=='N' or c=='n':\n",
        "    print(\"North\")\n",
        "elif c=='S' or c=='s':\n",
        "    print(\"South\")\n",
        "elif c=='E' or c=='e':\n",
        "    print(\"East\")\n",
        "elif c=='W' or c=='w':\n",
        "    print(\"West\")\n",
        "else:\n",
        "    print(\"Invalid input\")"
      ],
      "metadata": {
        "colab": {
          "base_uri": "https://localhost:8080/"
        },
        "id": "w02-ql8RPpzl",
        "outputId": "83a237cf-90c8-4f8d-96f9-31e560b6981d"
      },
      "execution_count": null,
      "outputs": [
        {
          "output_type": "stream",
          "name": "stdout",
          "text": [
            "enter a value : N\n",
            "North\n"
          ]
        }
      ]
    },
    {
      "cell_type": "code",
      "source": [
        "#to know the birth of seat number in train\n",
        "n=int(input(\"enter seat number : \"))\n",
        "rem=n%8\n",
        "if rem==0:\n",
        "    print(\"sleeper\")\n",
        "elif rem==1 or rem==4:\n",
        "    print(\"lower\")\n",
        "elif rem==2 or rem==5:\n",
        "    print(\"middle\")\n",
        "elif rem==3 or rem==6:\n",
        "    print(\"upper\")\n",
        "else:\n",
        "    print(\"slower\")"
      ],
      "metadata": {
        "colab": {
          "base_uri": "https://localhost:8080/"
        },
        "id": "p1THw4WPP5fF",
        "outputId": "1070a538-4c2e-424e-83e1-5fae09591374"
      },
      "execution_count": null,
      "outputs": [
        {
          "output_type": "stream",
          "name": "stdout",
          "text": [
            "enter seat number : 21\n",
            "middle\n"
          ]
        }
      ]
    },
    {
      "cell_type": "code",
      "source": [
        "#to print numbers from given range which are ---\n",
        "#divisible by 7\n",
        "#divisible by both 7 and 3\n",
        "#divisible by either 7 or 3\n",
        "for i in range(50,101,1):\n",
        "    if i%7==0:\n",
        "        print(i,end=' ')\n",
        "print(\"\\n\")\n",
        "for i in range(50,101,1):\n",
        "    if i%7==0 and i%3==0:\n",
        "        print(i,end=' ')\n",
        "print(\"\\n\")\n",
        "for i in range(50,101,1):\n",
        "    if i%7==0 or i%3==0:\n",
        "        print(i,end=' ')"
      ],
      "metadata": {
        "colab": {
          "base_uri": "https://localhost:8080/"
        },
        "id": "O2pJjNfhQWQR",
        "outputId": "0c6cc769-5a28-47ec-9869-9a87436fb782"
      },
      "execution_count": null,
      "outputs": [
        {
          "output_type": "stream",
          "name": "stdout",
          "text": [
            "56 63 70 77 84 91 98 \n",
            "\n",
            "63 84 \n",
            "\n",
            "51 54 56 57 60 63 66 69 70 72 75 77 78 81 84 87 90 91 93 96 98 99 "
          ]
        }
      ]
    },
    {
      "cell_type": "code",
      "source": [
        "#login authentication\n",
        "name=input(\"enter username :\")\n",
        "pin=input(\"enter passward :\")\n",
        "A_name=\"Bhanupatel381\"\n",
        "A_pin=\"2203A51442\"\n",
        "if A_name==name and A_pin==pin:\n",
        "    print(\"Login susscessful\")\n",
        "else:\n",
        "    print(\"incorrect username or password\")"
      ],
      "metadata": {
        "colab": {
          "base_uri": "https://localhost:8080/"
        },
        "id": "iy3NxmDyRfoG",
        "outputId": "4d4d744b-4db5-4e23-fdcc-2b039b5075e4"
      },
      "execution_count": null,
      "outputs": [
        {
          "output_type": "stream",
          "name": "stdout",
          "text": [
            "enter username :bhanupatel381\n",
            "enter passward :2203A51442\n",
            "incorrect username or password\n"
          ]
        }
      ]
    }
  ]
}