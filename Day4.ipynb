{
  "nbformat": 4,
  "nbformat_minor": 0,
  "metadata": {
    "colab": {
      "provenance": [],
      "authorship_tag": "ABX9TyND9N0dBtdnrv3NXwYxaknJ",
      "include_colab_link": true
    },
    "kernelspec": {
      "name": "python3",
      "display_name": "Python 3"
    },
    "language_info": {
      "name": "python"
    }
  },
  "cells": [
    {
      "cell_type": "markdown",
      "metadata": {
        "id": "view-in-github",
        "colab_type": "text"
      },
      "source": [
        "<a href=\"https://colab.research.google.com/github/bhanuprakash227/python-2024/blob/main/Day4.ipynb\" target=\"_parent\"><img src=\"https://colab.research.google.com/assets/colab-badge.svg\" alt=\"Open In Colab\"/></a>"
      ]
    },
    {
      "cell_type": "code",
      "execution_count": 1,
      "metadata": {
        "colab": {
          "base_uri": "https://localhost:8080/"
        },
        "id": "IpNjTZnPQxHZ",
        "outputId": "37384192-4905-453e-cf94-3a96ada1ec74"
      },
      "outputs": [
        {
          "output_type": "stream",
          "name": "stdout",
          "text": [
            "[11, 22, 'k', 'L', 65, 67, True, False]\n",
            "[10, 20, 30, 40, 50, 60]\n",
            "[10, 20, 30, 10, 20, 30]\n"
          ]
        }
      ],
      "source": [
        "#lists\n",
        "lst=[11,22,'k','L',65,67,True,False]\n",
        "print(lst)\n",
        "lst1=[10,20,30]\n",
        "lst2=[40,50,60]\n",
        "lst3=lst1+lst2\n",
        "print(lst3)\n",
        "lst4=lst1*2\n",
        "print(lst4)\n",
        "lsst=[11,22,33,[44,55,66],77,88]"
      ]
    },
    {
      "cell_type": "code",
      "source": [
        "lst=[33,22,11,44,55,77,66]\n",
        "print(lst)\n",
        "print(len(lst))\n",
        "print(min(lst))\n",
        "print(max(lst))\n",
        "print(sum(lst))\n",
        "print(any(lst))\n",
        "print(all(lst))\n",
        "del lst[1]\n",
        "print(lst)\n",
        "l=sorted(lst)\n",
        "print(l)"
      ],
      "metadata": {
        "colab": {
          "base_uri": "https://localhost:8080/"
        },
        "id": "vrHN-vHMROz6",
        "outputId": "95a29d6f-aba0-472e-c98d-04ecfb80a80a"
      },
      "execution_count": 2,
      "outputs": [
        {
          "output_type": "stream",
          "name": "stdout",
          "text": [
            "[33, 22, 11, 44, 55, 77, 66]\n",
            "7\n",
            "11\n",
            "77\n",
            "308\n",
            "True\n",
            "True\n",
            "[33, 11, 44, 55, 77, 66]\n",
            "[11, 33, 44, 55, 66, 77]\n"
          ]
        }
      ]
    },
    {
      "cell_type": "code",
      "source": [
        "lst=[11,22,33,44,55,66,77,88,99]\n",
        "lst.append(32)\n",
        "print(lst)\n",
        "lst1=[11,22,33,11,33,11,44,11,55,71]\n",
        "print(lst1)\n",
        "print(lst1.count(11))\n",
        "print(lst1.index(11))\n",
        "print(lst1.index(11,3))\n",
        "print(lst1.index(11,1,5))"
      ],
      "metadata": {
        "colab": {
          "base_uri": "https://localhost:8080/"
        },
        "id": "kd1lfI--RU1p",
        "outputId": "4120ecc2-0954-4456-9729-23ed19d40845"
      },
      "execution_count": 3,
      "outputs": [
        {
          "output_type": "stream",
          "name": "stdout",
          "text": [
            "[11, 22, 33, 44, 55, 66, 77, 88, 99, 32]\n",
            "[11, 22, 33, 11, 33, 11, 44, 11, 55, 71]\n",
            "4\n",
            "0\n",
            "3\n",
            "3\n"
          ]
        }
      ]
    },
    {
      "cell_type": "code",
      "source": [
        "l=[11,22,11,44,11,66,11,88]\n",
        "l.insert(2,'k')\n",
        "print(l)\n",
        "l.insert(11,'l')\n",
        "print(l)\n",
        "l.insert(-5,'z')\n",
        "print(l)\n",
        "print(l.pop())\n",
        "print(l.pop(5))\n",
        "print(l)\n",
        "v=[44,22,11,55,33]\n",
        "print(v)\n",
        "v.sort()\n",
        "print(v)\n",
        "l.extend(v)\n",
        "print(l)\n",
        "print(v)\n",
        "l.remove(11)\n",
        "print(l)\n",
        "l.remove(22)\n",
        "print(l)"
      ],
      "metadata": {
        "colab": {
          "base_uri": "https://localhost:8080/"
        },
        "id": "TXQs_8JqRh1K",
        "outputId": "1b7e5d59-c184-4143-d8dc-df788082c6be"
      },
      "execution_count": 4,
      "outputs": [
        {
          "output_type": "stream",
          "name": "stdout",
          "text": [
            "[11, 22, 'k', 11, 44, 11, 66, 11, 88]\n",
            "[11, 22, 'k', 11, 44, 11, 66, 11, 88, 'l']\n",
            "[11, 22, 'k', 11, 44, 'z', 11, 66, 11, 88, 'l']\n",
            "l\n",
            "z\n",
            "[11, 22, 'k', 11, 44, 11, 66, 11, 88]\n",
            "[44, 22, 11, 55, 33]\n",
            "[11, 22, 33, 44, 55]\n",
            "[11, 22, 'k', 11, 44, 11, 66, 11, 88, 11, 22, 33, 44, 55]\n",
            "[11, 22, 33, 44, 55]\n",
            "[22, 'k', 11, 44, 11, 66, 11, 88, 11, 22, 33, 44, 55]\n",
            "['k', 11, 44, 11, 66, 11, 88, 11, 22, 33, 44, 55]\n"
          ]
        }
      ]
    },
    {
      "cell_type": "code",
      "source": [
        "k=[11,22,33,44,55]\n",
        "print(id(k))\n",
        "v=k\n",
        "print(id(v))\n",
        "print(k.pop())\n",
        "print(v)\n",
        "a=[11,22,33,44,55]\n",
        "b=a.copy()\n",
        "print(id(a))\n",
        "print(id(b))\n",
        "print(a.pop())\n",
        "print(b)"
      ],
      "metadata": {
        "colab": {
          "base_uri": "https://localhost:8080/"
        },
        "id": "JUEv2i5BRnIJ",
        "outputId": "57f8d86d-e561-491e-89a2-653446360bba"
      },
      "execution_count": 5,
      "outputs": [
        {
          "output_type": "stream",
          "name": "stdout",
          "text": [
            "133673176004992\n",
            "133673176004992\n",
            "55\n",
            "[11, 22, 33, 44]\n",
            "133673171625280\n",
            "133673155699136\n",
            "55\n",
            "[11, 22, 33, 44, 55]\n"
          ]
        }
      ]
    },
    {
      "cell_type": "code",
      "source": [
        "lst=[1,2,3,4,5]\n",
        "dbl_lst=[i**2 for i in lst]\n",
        "print(dbl_lst)               #squares of elements\n",
        "l=[-12,84,11,22,-3,0,-25]\n",
        "p_l=[i for i in l if i>0]    #positive elements\n",
        "print(p_l)"
      ],
      "metadata": {
        "colab": {
          "base_uri": "https://localhost:8080/"
        },
        "id": "GjALRDA8RroT",
        "outputId": "350c83f1-1711-417a-da0d-e640fdb9acba"
      },
      "execution_count": 6,
      "outputs": [
        {
          "output_type": "stream",
          "name": "stdout",
          "text": [
            "[1, 4, 9, 16, 25]\n",
            "[84, 11, 22]\n"
          ]
        }
      ]
    },
    {
      "cell_type": "code",
      "source": [
        "lst=[1,2,3,4,5,6,7,8,9,0]\n",
        "odd_lst=[i for i in lst if i%2!=0]    #odd numbers\n",
        "even_lst=[i for i in lst if i%2==0]   #even numbers\n",
        "print(odd_lst)\n",
        "print(even_lst)"
      ],
      "metadata": {
        "colab": {
          "base_uri": "https://localhost:8080/"
        },
        "id": "hJIJ_P3WRuO8",
        "outputId": "728c0ab5-a961-4d02-b85b-8b0a86d4c372"
      },
      "execution_count": 7,
      "outputs": [
        {
          "output_type": "stream",
          "name": "stdout",
          "text": [
            "[1, 3, 5, 7, 9]\n",
            "[2, 4, 6, 8, 0]\n"
          ]
        }
      ]
    },
    {
      "cell_type": "code",
      "source": [
        "lst=[]\n",
        "noe=int(input(\"enter total number of elements: \"))\n",
        "for i in range(noe):\n",
        "    ele=int(input(\"enter %d element: \"%i))\n",
        "    lst.append(ele)\n",
        "print(lst)"
      ],
      "metadata": {
        "colab": {
          "base_uri": "https://localhost:8080/"
        },
        "id": "dNcKGnMBR8Dp",
        "outputId": "cc5cbea8-b151-4d5c-e246-6098dc67fc00"
      },
      "execution_count": 11,
      "outputs": [
        {
          "output_type": "stream",
          "name": "stdout",
          "text": [
            "enter total number of elements: 5\n",
            "enter 0 element: 1\n",
            "enter 1 element: 2\n",
            "enter 2 element: 3\n",
            "enter 3 element: 4\n",
            "enter 4 element: 5\n",
            "[1, 2, 3, 4, 5]\n"
          ]
        }
      ]
    },
    {
      "cell_type": "code",
      "source": [
        "#read values into lists\n",
        "lst=[]\n",
        "ele=int(input(\"enter no of elements: \"))\n",
        "while ele!=0:\n",
        "    lst.append(ele)\n",
        "    ele=int(input(\"enter element: \"))\n",
        "    print(\"List: \",lst)"
      ],
      "metadata": {
        "colab": {
          "base_uri": "https://localhost:8080/"
        },
        "id": "fi3QlQLZSKTe",
        "outputId": "223714a9-7c26-4af9-d869-621463b6f7e3"
      },
      "execution_count": 12,
      "outputs": [
        {
          "output_type": "stream",
          "name": "stdout",
          "text": [
            "enter no of elements: 4\n",
            "enter element: 2\n",
            "List:  [4]\n",
            "enter element: 3\n",
            "List:  [4, 2]\n",
            "enter element: 4\n",
            "List:  [4, 2, 3]\n",
            "enter element: 5\n",
            "List:  [4, 2, 3, 4]\n",
            "enter element: 6\n",
            "List:  [4, 2, 3, 4, 5]\n",
            "enter element: 0\n",
            "List:  [4, 2, 3, 4, 5, 6]\n"
          ]
        }
      ]
    },
    {
      "cell_type": "code",
      "source": [
        "#unique elements from the list\n",
        "lst=[10,10,20,20,30,30]\n",
        "u_lst=[]\n",
        "for i in lst:\n",
        "    if i not in u_lst:\n",
        "        u_lst.append(i)\n",
        "print(f\"original list: {lst}\")\n",
        "print(f\"new list: {u_lst}\")"
      ],
      "metadata": {
        "colab": {
          "base_uri": "https://localhost:8080/"
        },
        "id": "bMwBPtewSVmX",
        "outputId": "07a45457-fe26-4aee-ccb0-21401a0940fc"
      },
      "execution_count": 13,
      "outputs": [
        {
          "output_type": "stream",
          "name": "stdout",
          "text": [
            "original list: [10, 10, 20, 20, 30, 30]\n",
            "new list: [10, 20, 30]\n"
          ]
        }
      ]
    },
    {
      "cell_type": "code",
      "source": [
        "#derving +ve and -ve numbers from list\n",
        "lst=[1,2,3,4,5,-6,-7,-8,-9,0]\n",
        "p_lst=[]\n",
        "n_lst=[]\n",
        "for i in lst:\n",
        "    if i>0:\n",
        "        p_lst.append(i)\n",
        "    if i<0:\n",
        "        n_lst.append(i)\n",
        "print(\"Original List: \",lst)\n",
        "print(\"positive list: \",p_lst)\n",
        "print(\"negative list: \",n_lst)"
      ],
      "metadata": {
        "colab": {
          "base_uri": "https://localhost:8080/"
        },
        "id": "NQhOpo9_SpZA",
        "outputId": "4bb7bc9e-9ae4-4b0c-96f1-dc8f962099e6"
      },
      "execution_count": 14,
      "outputs": [
        {
          "output_type": "stream",
          "name": "stdout",
          "text": [
            "Original List:  [1, 2, 3, 4, 5, -6, -7, -8, -9, 0]\n",
            "positive list:  [1, 2, 3, 4, 5]\n",
            "negative list:  [-6, -7, -8, -9]\n"
          ]
        }
      ]
    },
    {
      "cell_type": "code",
      "source": [
        "#derive a number to barcode as (A.....Z as 0,1,......25)\n",
        "no=int(input(\"enter barcode: \"))  #1234567890\n",
        "alp=['a','b','c','d','e','f','g','h','i','j']\n",
        "bar=''\n",
        "while no>0:\n",
        "    dgt=no%10\n",
        "    bar=alp[dgt]+bar\n",
        "    no=no//10\n",
        "print(bar)"
      ],
      "metadata": {
        "colab": {
          "base_uri": "https://localhost:8080/"
        },
        "id": "TgKrYAXeSx0I",
        "outputId": "57fbd1b8-4c3e-4e46-e262-9a56d035260f"
      },
      "execution_count": 16,
      "outputs": [
        {
          "output_type": "stream",
          "name": "stdout",
          "text": [
            "enter barcode: 12345676\n",
            "bcdefghg\n"
          ]
        }
      ]
    },
    {
      "cell_type": "code",
      "source": [
        "nmlst=[]\n",
        "acnlst=[]\n",
        "trnslst=[]\n",
        "ch='y'\n",
        "while ch=='y':\n",
        "    nm=input(\"Enter name: \")\n",
        "    while True:\n",
        "        acno=int(input(\"Enter A/c No: \"))\n",
        "        cnfrmacno=int(input(\"Confirm A/c No: \"))\n",
        "        if acno==cnfrmacno:\n",
        "            break\n",
        "        print(\"Not Matched, try Again\")\n",
        "    tl=int(input(\"Enter transfer limit: \"))\n",
        "    nmlst.append(nm)\n",
        "    acnlst.append(acno)\n",
        "    trnslst.append(tl)\n",
        "    ch=input(\"Do u want to continue: press y/n: \")\n",
        "    if ch=='y':\n",
        "        continue\n",
        "    break\n",
        "print(\"Name\\tA/c No\\tTransfer Limit\")\n",
        "print('-'*30)\n",
        "for i in range(len(nmlst)):\n",
        "    print(nmlst[i],\"\\t\",acnlst[i],\"\\t\",trnslst[i])"
      ],
      "metadata": {
        "colab": {
          "base_uri": "https://localhost:8080/"
        },
        "id": "NsllK4FITDd1",
        "outputId": "be8d2ed3-f460-4c43-f119-d0f2784a5af7"
      },
      "execution_count": 17,
      "outputs": [
        {
          "output_type": "stream",
          "name": "stdout",
          "text": [
            "Enter name: bhanu\n",
            "Enter A/c No: 1442\n",
            "Confirm A/c No: 1442\n",
            "Enter transfer limit: 50000\n",
            "Do u want to continue: press y/n: y\n",
            "Enter name: patel\n",
            "Enter A/c No: 1443\n",
            "Confirm A/c No: 1443\n",
            "Enter transfer limit: 55000\n",
            "Do u want to continue: press y/n: n\n",
            "Name\tA/c No\tTransfer Limit\n",
            "------------------------------\n",
            "bhanu \t 1442 \t 50000\n",
            "patel \t 1443 \t 55000\n"
          ]
        }
      ]
    },
    {
      "cell_type": "code",
      "source": [
        "plyrs=[\"kohli\",\"rohith\"]\n",
        "jrsys=[18,45]\n",
        "tm=list(zip(plyrs,jrsys))\n",
        "print(tuple(tm))\n",
        "print(list(tm))"
      ],
      "metadata": {
        "colab": {
          "base_uri": "https://localhost:8080/"
        },
        "id": "raxG1EGnTmWa",
        "outputId": "51bcb4c8-cc6c-4321-d766-7f97e101187a"
      },
      "execution_count": 18,
      "outputs": [
        {
          "output_type": "stream",
          "name": "stdout",
          "text": [
            "(('kohli', 18), ('rohith', 45))\n",
            "[('kohli', 18), ('rohith', 45)]\n"
          ]
        }
      ]
    }
  ]
}