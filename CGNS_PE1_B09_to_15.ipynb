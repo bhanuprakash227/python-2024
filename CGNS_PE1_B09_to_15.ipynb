{
  "nbformat": 4,
  "nbformat_minor": 0,
  "metadata": {
    "colab": {
      "provenance": [],
      "include_colab_link": true
    },
    "kernelspec": {
      "name": "python3",
      "display_name": "Python 3"
    },
    "language_info": {
      "name": "python"
    }
  },
  "cells": [
    {
      "cell_type": "markdown",
      "metadata": {
        "id": "view-in-github",
        "colab_type": "text"
      },
      "source": [
        "<a href=\"https://colab.research.google.com/github/bhanuprakash227/python-2024/blob/main/CGNS_PE1_B09_to_15.ipynb\" target=\"_parent\"><img src=\"https://colab.research.google.com/assets/colab-badge.svg\" alt=\"Open In Colab\"/></a>"
      ]
    },
    {
      "cell_type": "code",
      "execution_count": null,
      "metadata": {
        "id": "czA6TMqv__Ew",
        "colab": {
          "base_uri": "https://localhost:8080/"
        },
        "outputId": "b2c01546-ad51-409c-c4a5-6080ea544ef6"
      },
      "outputs": [
        {
          "name": "stdout",
          "output_type": "stream",
          "text": [
            "Please enter a string: hello\n"
          ]
        }
      ],
      "source": [
        "user_input = input(\"Please enter a string: \")"
      ]
    },
    {
      "cell_type": "code",
      "source": [
        "for char in user_input:\n",
        "    print(f\"The ASCII value of '{char}' is {ord(char)}\")"
      ],
      "metadata": {
        "colab": {
          "base_uri": "https://localhost:8080/"
        },
        "id": "QPPCBMOVEoTj",
        "outputId": "98524583-74f5-40c1-88fd-221789cdc9fb"
      },
      "execution_count": null,
      "outputs": [
        {
          "output_type": "stream",
          "name": "stdout",
          "text": [
            "The ASCII value of 'h' is 104\n",
            "The ASCII value of 'e' is 101\n",
            "The ASCII value of 'l' is 108\n",
            "The ASCII value of 'l' is 108\n",
            "The ASCII value of 'o' is 111\n"
          ]
        }
      ]
    },
    {
      "cell_type": "markdown",
      "source": [],
      "metadata": {
        "id": "q_wl1GqJF-Sp"
      }
    },
    {
      "cell_type": "code",
      "source": [
        "def encrypt(plaintext, shift):\n",
        "    ciphertext = \"\"\n",
        "    for char in plaintext:\n",
        "        if char.isupper():\n",
        "            ciphertext += chr((ord(char) + shift - 65) % 26 + 65)\n",
        "        elif char.islower():\n",
        "            ciphertext += chr((ord(char) + shift - 97) % 26 + 97)\n",
        "        else:\n",
        "            ciphertext += char\n",
        "    return ciphertext\n",
        "def decrypt(ciphertext, shift):\n",
        "    plaintext = \"\"\n",
        "    for char in ciphertext:\n",
        "        if char.isupper():\n",
        "            plaintext += chr((ord(char) - shift - 65) % 26 + 65)\n",
        "        elif char.islower():\n",
        "            plaintext += chr((ord(char) - shift - 97) % 26 + 97)\n",
        "        else:\n",
        "            plaintext += char\n",
        "    return plaintext\n",
        "if __name__ == \"__main__\":\n",
        "    text = input(\"Enter the text to encrypt: \")\n",
        "    shift = int(input(\"Enter the shift value (integer): \"))\n",
        "    encrypted_text = encrypt(text, shift)\n",
        "    print(f\"Encrypted Text: {encrypted_text}\")\n",
        "    decrypted_text = decrypt(encrypted_text, shift)\n",
        "    print(f\"Decrypted Text: {decrypted_text}\")"
      ],
      "metadata": {
        "colab": {
          "base_uri": "https://localhost:8080/"
        },
        "id": "M0D3KA9WGB3K",
        "outputId": "0c20d317-fd87-47cd-8b66-637d30d50b30"
      },
      "execution_count": null,
      "outputs": [
        {
          "output_type": "stream",
          "name": "stdout",
          "text": [
            "Enter the text to encrypt: jfhjgfdftdtdf\n",
            "Enter the shift value (integer): 6\n",
            "Encrypted Text: plnpmljlzjzjl\n",
            "Decrypted Text: jfhjgfdftdtdf\n"
          ]
        }
      ]
    }
  ]
}