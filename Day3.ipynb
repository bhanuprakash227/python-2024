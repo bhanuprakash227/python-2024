{
  "nbformat": 4,
  "nbformat_minor": 0,
  "metadata": {
    "colab": {
      "provenance": [],
      "authorship_tag": "ABX9TyNfkXDw+OLBaGMIyJ8AgUHV",
      "include_colab_link": true
    },
    "kernelspec": {
      "name": "python3",
      "display_name": "Python 3"
    },
    "language_info": {
      "name": "python"
    }
  },
  "cells": [
    {
      "cell_type": "markdown",
      "metadata": {
        "id": "view-in-github",
        "colab_type": "text"
      },
      "source": [
        "<a href=\"https://colab.research.google.com/github/bhanuprakash227/python-2024/blob/main/Untitled0.ipynb\" target=\"_parent\"><img src=\"https://colab.research.google.com/assets/colab-badge.svg\" alt=\"Open In Colab\"/></a>"
      ]
    },
    {
      "cell_type": "code",
      "execution_count": 1,
      "metadata": {
        "colab": {
          "base_uri": "https://localhost:8080/"
        },
        "id": "fdTF3QXDWRdB",
        "outputId": "efff3299-5633-4093-e182-354bf31aea29"
      },
      "outputs": [
        {
          "output_type": "stream",
          "name": "stdout",
          "text": [
            "1 \n",
            "1 2 \n",
            "1 2 3 \n",
            "1 2 3 4 \n",
            "1 2 3 4 5 \n"
          ]
        }
      ],
      "source": [
        "for i in range(1,6):\n",
        "    for j in range(1,i+1):\n",
        "        print(j,end=' ')\n",
        "    print()"
      ]
    },
    {
      "cell_type": "code",
      "source": [
        "for i in range(5,0,-1):\n",
        "    for j in range(1,i+1):\n",
        "        print(j,end=' ')\n",
        "    print()"
      ],
      "metadata": {
        "colab": {
          "base_uri": "https://localhost:8080/"
        },
        "id": "D47ba_a0WdrI",
        "outputId": "28b4cc12-6267-43f6-bfd7-7ca2eb23b3e3"
      },
      "execution_count": 2,
      "outputs": [
        {
          "output_type": "stream",
          "name": "stdout",
          "text": [
            "1 2 3 4 5 \n",
            "1 2 3 4 \n",
            "1 2 3 \n",
            "1 2 \n",
            "1 \n"
          ]
        }
      ]
    },
    {
      "cell_type": "code",
      "source": [
        "for i in range(5,0,-1):\n",
        "    for j in range(i,0,-1):\n",
        "        print(j,end=' ')\n",
        "    print()"
      ],
      "metadata": {
        "colab": {
          "base_uri": "https://localhost:8080/"
        },
        "id": "-5h-bjc1WjB0",
        "outputId": "56aa73ac-9af6-435f-8729-a2333ba5d28b"
      },
      "execution_count": 3,
      "outputs": [
        {
          "output_type": "stream",
          "name": "stdout",
          "text": [
            "5 4 3 2 1 \n",
            "4 3 2 1 \n",
            "3 2 1 \n",
            "2 1 \n",
            "1 \n"
          ]
        }
      ]
    },
    {
      "cell_type": "code",
      "source": [
        "for i in range(1,6):\n",
        "    for j in range(1,6):\n",
        "        print(\"%2d\"%(i*j),\"\\t\",end=' ')\n",
        "    print()"
      ],
      "metadata": {
        "colab": {
          "base_uri": "https://localhost:8080/"
        },
        "id": "X4HCb96-Wp5m",
        "outputId": "9368387c-bdbd-45bd-c645-020310efa2a1"
      },
      "execution_count": 4,
      "outputs": [
        {
          "output_type": "stream",
          "name": "stdout",
          "text": [
            " 1 \t  2 \t  3 \t  4 \t  5 \t \n",
            " 2 \t  4 \t  6 \t  8 \t 10 \t \n",
            " 3 \t  6 \t  9 \t 12 \t 15 \t \n",
            " 4 \t  8 \t 12 \t 16 \t 20 \t \n",
            " 5 \t 10 \t 15 \t 20 \t 25 \t \n"
          ]
        }
      ]
    },
    {
      "cell_type": "code",
      "source": [
        "for num in range(5):\n",
        "    print(f\"Current number: {num}\")\n",
        "else:\n",
        "    print(\"Loop completed normally\")"
      ],
      "metadata": {
        "colab": {
          "base_uri": "https://localhost:8080/"
        },
        "id": "cJTzWssFWs_r",
        "outputId": "8d6d8d97-5dda-4ab2-8452-4c9e90294bc8"
      },
      "execution_count": 5,
      "outputs": [
        {
          "output_type": "stream",
          "name": "stdout",
          "text": [
            "Current number: 0\n",
            "Current number: 1\n",
            "Current number: 2\n",
            "Current number: 3\n",
            "Current number: 4\n",
            "Loop completed normally\n"
          ]
        }
      ]
    },
    {
      "cell_type": "code",
      "source": [
        "for num in range(5):\n",
        "    print(f\"Current number: {num}\")\n",
        "    if num==3:\n",
        "        break\n",
        "else:\n",
        "    print(\"Loop completed normally\")"
      ],
      "metadata": {
        "colab": {
          "base_uri": "https://localhost:8080/"
        },
        "id": "yCjxxFgiWzUk",
        "outputId": "38ce004c-96c1-4822-fc7c-e66f9901074d"
      },
      "execution_count": 6,
      "outputs": [
        {
          "output_type": "stream",
          "name": "stdout",
          "text": [
            "Current number: 0\n",
            "Current number: 1\n",
            "Current number: 2\n",
            "Current number: 3\n"
          ]
        }
      ]
    },
    {
      "cell_type": "code",
      "source": [
        "count=0\n",
        "while count<10:\n",
        "    print(f\"Current count: {count}\")\n",
        "    count=count+1\n",
        "else:\n",
        "    print(\"Loop completed normally\")"
      ],
      "metadata": {
        "colab": {
          "base_uri": "https://localhost:8080/"
        },
        "id": "zeHQrm9sW1zX",
        "outputId": "1e843ffa-616c-4ebf-81f7-52249cf4693b"
      },
      "execution_count": 7,
      "outputs": [
        {
          "output_type": "stream",
          "name": "stdout",
          "text": [
            "Current count: 0\n",
            "Current count: 1\n",
            "Current count: 2\n",
            "Current count: 3\n",
            "Current count: 4\n",
            "Current count: 5\n",
            "Current count: 6\n",
            "Current count: 7\n",
            "Current count: 8\n",
            "Current count: 9\n",
            "Loop completed normally\n"
          ]
        }
      ]
    },
    {
      "cell_type": "code",
      "source": [
        "count=0\n",
        "while count<10:\n",
        "    print(f\"Current count: {count}\")\n",
        "    count=count+1\n",
        "    if count>5:\n",
        "        break\n",
        "else:\n",
        "    print(\"Loop completed normally\")"
      ],
      "metadata": {
        "colab": {
          "base_uri": "https://localhost:8080/"
        },
        "id": "veCk8LQaW60u",
        "outputId": "f5f6a9bb-f268-40fe-c032-4f8190effe79"
      },
      "execution_count": 8,
      "outputs": [
        {
          "output_type": "stream",
          "name": "stdout",
          "text": [
            "Current count: 0\n",
            "Current count: 1\n",
            "Current count: 2\n",
            "Current count: 3\n",
            "Current count: 4\n",
            "Current count: 5\n"
          ]
        }
      ]
    },
    {
      "cell_type": "code",
      "source": [
        "s=\"Welcome to python programming\"\n",
        "print(s[11])\n",
        "print(s[-11])\n",
        "print(s[11:])\n",
        "print(s[-11:])\n",
        "print(s[-11::-1])\n",
        "print(s[-11:-17])\n",
        "print(s[-11:-17:-1])\n",
        "print(s[-7:-17:])\n",
        "print(s[7:-17:])"
      ],
      "metadata": {
        "colab": {
          "base_uri": "https://localhost:8080/"
        },
        "id": "MYt7Lo1TXGRu",
        "outputId": "d5cb1116-7d38-479d-d263-46d73330bf4e"
      },
      "execution_count": 9,
      "outputs": [
        {
          "output_type": "stream",
          "name": "stdout",
          "text": [
            "p\n",
            "p\n",
            "python programming\n",
            "programming\n",
            "p nohtyp ot emocleW\n",
            "\n",
            "p noht\n",
            "\n",
            " to p\n"
          ]
        }
      ]
    },
    {
      "cell_type": "code",
      "source": [
        "for i in range(0,128):\n",
        "    print(i,\"---->\",chr(i),end=' ')\n",
        "    print()"
      ],
      "metadata": {
        "colab": {
          "base_uri": "https://localhost:8080/"
        },
        "id": "GiYf9BcxXOfz",
        "outputId": "e05b1bc9-2ff9-459c-9e56-ffe0c006e0e5"
      },
      "execution_count": 10,
      "outputs": [
        {
          "output_type": "stream",
          "name": "stdout",
          "text": [
            "0 ----> \u0000 \n",
            "1 ----> \u0001 \n",
            "2 ----> \u0002 \n",
            "3 ----> \u0003 \n",
            "4 ----> \u0004 \n",
            "5 ----> \u0005 \n",
            "6 ----> \u0006 \n",
            "7 ----> \u0007 \n",
            "8 ----> \b \n",
            "9 ----> \t \n",
            "10 ----> \n",
            " \n",
            "11 ----> \u000b \n",
            "12 ----> \f \n",
            "13 ----> \r \n",
            "14 ----> \u000e \n",
            "15 ----> \u000f \n",
            "16 ----> \u0010 \n",
            "17 ----> \u0011 \n",
            "18 ----> \u0012 \n",
            "19 ----> \u0013 \n",
            "20 ----> \u0014 \n",
            "21 ----> \u0015 \n",
            "22 ----> \u0016 \n",
            "23 ----> \u0017 \n",
            "24 ----> \u0018 \n",
            "25 ----> \u0019 \n",
            "26 ----> \u001a \n",
            "27 ----> \u001b \n",
            "28 ----> \u001c \n",
            "29 ----> \u001d \n",
            "30 ----> \u001e \n",
            "31 ----> \u001f \n",
            "32 ---->   \n",
            "33 ----> ! \n",
            "34 ----> \" \n",
            "35 ----> # \n",
            "36 ----> $ \n",
            "37 ----> % \n",
            "38 ----> & \n",
            "39 ----> ' \n",
            "40 ----> ( \n",
            "41 ----> ) \n",
            "42 ----> * \n",
            "43 ----> + \n",
            "44 ----> , \n",
            "45 ----> - \n",
            "46 ----> . \n",
            "47 ----> / \n",
            "48 ----> 0 \n",
            "49 ----> 1 \n",
            "50 ----> 2 \n",
            "51 ----> 3 \n",
            "52 ----> 4 \n",
            "53 ----> 5 \n",
            "54 ----> 6 \n",
            "55 ----> 7 \n",
            "56 ----> 8 \n",
            "57 ----> 9 \n",
            "58 ----> : \n",
            "59 ----> ; \n",
            "60 ----> < \n",
            "61 ----> = \n",
            "62 ----> > \n",
            "63 ----> ? \n",
            "64 ----> @ \n",
            "65 ----> A \n",
            "66 ----> B \n",
            "67 ----> C \n",
            "68 ----> D \n",
            "69 ----> E \n",
            "70 ----> F \n",
            "71 ----> G \n",
            "72 ----> H \n",
            "73 ----> I \n",
            "74 ----> J \n",
            "75 ----> K \n",
            "76 ----> L \n",
            "77 ----> M \n",
            "78 ----> N \n",
            "79 ----> O \n",
            "80 ----> P \n",
            "81 ----> Q \n",
            "82 ----> R \n",
            "83 ----> S \n",
            "84 ----> T \n",
            "85 ----> U \n",
            "86 ----> V \n",
            "87 ----> W \n",
            "88 ----> X \n",
            "89 ----> Y \n",
            "90 ----> Z \n",
            "91 ----> [ \n",
            "92 ----> \\ \n",
            "93 ----> ] \n",
            "94 ----> ^ \n",
            "95 ----> _ \n",
            "96 ----> ` \n",
            "97 ----> a \n",
            "98 ----> b \n",
            "99 ----> c \n",
            "100 ----> d \n",
            "101 ----> e \n",
            "102 ----> f \n",
            "103 ----> g \n",
            "104 ----> h \n",
            "105 ----> i \n",
            "106 ----> j \n",
            "107 ----> k \n",
            "108 ----> l \n",
            "109 ----> m \n",
            "110 ----> n \n",
            "111 ----> o \n",
            "112 ----> p \n",
            "113 ----> q \n",
            "114 ----> r \n",
            "115 ----> s \n",
            "116 ----> t \n",
            "117 ----> u \n",
            "118 ----> v \n",
            "119 ----> w \n",
            "120 ----> x \n",
            "121 ----> y \n",
            "122 ----> z \n",
            "123 ----> { \n",
            "124 ----> | \n",
            "125 ----> } \n",
            "126 ----> ~ \n",
            "127 ---->  \n"
          ]
        }
      ]
    }
  ]
}
